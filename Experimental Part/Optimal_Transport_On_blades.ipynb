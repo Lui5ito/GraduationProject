{
 "cells": [
  {
   "cell_type": "markdown",
   "metadata": {},
   "source": [
    "# Performing Optimal Transport on blades\n",
    "\n",
    "This notebook is in addition of the Experiment_On_Real_Dataset notebook. Its aim is to understand and visualize the optimal transport problem from a refrence measure to a blade and from a blade to another one.\n",
    "\n",
    "<br>\n",
    "\n",
    "Authors of this notebook:\n",
    "* Louis Allain\n",
    "* Léonard Gousset\n",
    "* Julien Heurtin"
   ]
  },
  {
   "cell_type": "markdown",
   "metadata": {},
   "source": [
    "## Regularized Optimal Transport between two blades\n",
    "\n",
    "This section is dedicated to perform ROT between two cloud points. It is mainly here to help us understand every steps needed to perform ROT using ```jax``` and ```ott``` packages. From here we will determine the best way to carry the ROT problem between two large samples, trading off between memory and time."
   ]
  },
  {
   "cell_type": "code",
   "execution_count": null,
   "metadata": {},
   "outputs": [],
   "source": [
    "# Jax package allows to speed up computation\n",
    "import jax.numpy as jnp\n",
    "\n",
    "# Packages that actually performs Sinkhorn algorithm\n",
    "from ott.geometry.pointcloud import PointCloud\n",
    "from ott.problems.linear.linear_problem import LinearProblem\n",
    "from ott.solvers.linear.sinkhorn import Sinkhorn\n",
    "import ott\n",
    "\n",
    "\n",
    "# Start a timer\n",
    "import time\n",
    "start_time = time.time()\n",
    "\n",
    "\n",
    "## First les take two first blade\n",
    "blade_one = distributions[1]\n",
    "blade_two = distributions[2]\n",
    "\n",
    "## How many points per blade ?\n",
    "size_cloud_points = len(blade_one)\n",
    "\n",
    "## We need to define the clouds as jax.numpy arrays\n",
    "cloud_one = jnp.array(blade_one)\n",
    "cloud_two = jnp.array(blade_two)\n",
    "\n",
    "## Define the epsilon for Regularized OT - small epsilon = great accuracy = longer time\n",
    "epsilon = 1\n",
    "\n",
    "## Create PointCloud object to accomodate OTT package\n",
    "my_geom = PointCloud(x = cloud_one, # training cloud or first blade cloud\n",
    "                  y = cloud_two, # reference cloud or second blade cloud\n",
    "                  epsilon = epsilon # epsilon of ROT\n",
    "                  )\n",
    "\n",
    "## Formalises the Regularized Optimal Transport problem\n",
    "ot_problem = LinearProblem(geom = my_geom) # The geometry of the problem between the two blades\n",
    "\n",
    "## Instanciate the solver of the ROT problem\n",
    "sinkhorn_solver =  Sinkhorn()\n",
    "\n",
    "## Actually computing the Sinkhorn algortihm\n",
    "rot_result = sinkhorn_solver(ot_problem)\n",
    "\n",
    "# Stops the timer\n",
    "end_time = time.time()\n",
    "time_spent = end_time - start_time\n",
    "print(\"Regularized Optimal Transport computation took:\", time_spent, \"seconds, using epsilon =\", epsilon)\n",
    "\n",
    "\n",
    "## Retrieve left and right potentials\n",
    "left_potentials = rot_result.f\n",
    "right_potentials = rot_result.g\n",
    "\n",
    "## Retrieve the duals potentials\n",
    "dual_potentials = rot_result.to_dual_potentials()\n",
    "\n",
    "## Compute the transport plan matrix\n",
    "transport_plan_matrix = rot_result.matrix"
   ]
  },
  {
   "cell_type": "markdown",
   "metadata": {},
   "source": [
    "### Plotting the Transport Plan Matrix"
   ]
  },
  {
   "cell_type": "code",
   "execution_count": null,
   "metadata": {},
   "outputs": [],
   "source": [
    "plt.figure(figsize=(8, 8))\n",
    "\n",
    "# Heatmap visualization of transport plan matrix\n",
    "plt.imshow(transport_plan_matrix, cmap = \"Purples\")\n",
    "plt.title('Transport Plan Heatmap')\n",
    "plt.colorbar()\n",
    "\n",
    "# Save the figure\n",
    "plt.savefig(\"Images/transport_plan_matrix_2_blades.png\", dpi=300, bbox_inches='tight', format=\"png\")\n",
    "\n",
    "# Show the figure\n",
    "plt.show()"
   ]
  },
  {
   "cell_type": "markdown",
   "metadata": {},
   "source": [
    "### Plotting the Sinkhorn potentials"
   ]
  },
  {
   "cell_type": "code",
   "execution_count": null,
   "metadata": {},
   "outputs": [],
   "source": [
    "# Define colors for left and right potentials\n",
    "left_color = 'blue'\n",
    "right_color = 'orange'\n",
    "\n",
    "# Calculate the difference between left and right potentials\n",
    "potential_difference = [left - right for left, right in zip(left_potentials, right_potentials)]\n",
    "\n",
    "# Plotting the results\n",
    "plt.figure(figsize=(18, 4))  # Adjust figsize as needed\n",
    "\n",
    "# Left potentials plot\n",
    "plt.subplot(1, 4, 1)\n",
    "plt.plot(left_potentials, label='Left Potentials', color=left_color)\n",
    "plt.legend()\n",
    "plt.title('Left Potentials')\n",
    "\n",
    "# Dual potentials plot\n",
    "plt.subplot(1, 4, 2)\n",
    "plt.plot(left_potentials, label='Left Potentials', color=left_color)\n",
    "plt.plot(right_potentials, label='Right Potentials', color=right_color)\n",
    "plt.legend()\n",
    "plt.title('Dual Potentials')\n",
    "\n",
    "# Right potentials plot\n",
    "plt.subplot(1, 4, 3)\n",
    "plt.plot(right_potentials, label='Right Potentials', color=right_color)\n",
    "plt.legend()\n",
    "plt.title('Right Potentials')\n",
    "\n",
    "# Potential difference plot\n",
    "plt.subplot(1, 4, 4)\n",
    "plt.plot(potential_difference, label='Potential Difference', color='green')\n",
    "plt.legend()\n",
    "plt.title('Potential Difference')\n",
    "\n",
    "plt.tight_layout()\n",
    "\n",
    "#plt.savefig(\"Images/transport_plan_matrix_2_blades.png\", dpi=300, bbox_inches='tight', format=\"png\")\n",
    "\n",
    "plt.show()\n"
   ]
  },
  {
   "cell_type": "markdown",
   "metadata": {},
   "source": [
    "### Plotting the transport map\n",
    "\n",
    "Using the tutorial [here](https://ott-jax.readthedocs.io/en/latest/tutorials/point_clouds.html)."
   ]
  },
  {
   "cell_type": "code",
   "execution_count": null,
   "metadata": {},
   "outputs": [],
   "source": [
    "## This does not work, but I cannot figure out why.\n",
    "\n",
    "# Plotting utility\n",
    "def plot_map(x, y, z, forward: bool = True):\n",
    "    plt.figure(figsize=(10, 8))\n",
    "    marker_t = \"o\" if forward else \"X\"\n",
    "    label = (\n",
    "        r\"$T_{x\\rightarrow y}(x)$\" if forward else r\"$T_{y\\rightarrow x}(y)$\"\n",
    "    )\n",
    "    w = x if forward else y\n",
    "    plt.quiver(\n",
    "        *w.T,\n",
    "        *(z - w).T,\n",
    "        color=\"k\",\n",
    "        angles=\"xy\",\n",
    "        scale_units=\"xy\",\n",
    "        scale=1,\n",
    "        width=0.007,\n",
    "    )\n",
    "    plt.scatter(*x.T, s=200, edgecolors=\"k\", marker=\"o\", label=r\"$x$\")\n",
    "    plt.scatter(*y.T, s=200, edgecolors=\"k\", marker=\"X\", label=r\"$y$\")\n",
    "    plt.scatter(*z.T, s=150, edgecolors=\"k\", marker=marker_t, label=label)\n",
    "    plt.legend(fontsize=22)\n",
    "\n",
    "# Computing the transport\n",
    "transport = dual_potentials.transport(cloud_one)\n",
    "\n",
    "# Actually plotting the transpot map\n",
    "plot_map(cloud_one, cloud_two, transport)"
   ]
  },
  {
   "cell_type": "code",
   "execution_count": null,
   "metadata": {},
   "outputs": [],
   "source": [
    "## Some other way, that seems to work but the plot is not usable/readable...\n",
    "\n",
    "plott = ott.tools.plot.Plot()\n",
    "_ = plott(rot_result)"
   ]
  },
  {
   "cell_type": "markdown",
   "metadata": {},
   "source": [
    "## Regularized Optimal Transport between a reference measure and a blade\n",
    "\n",
    "The reference measure considered here is a sphere of center the barycenter of the blade and of small radius (0.04). This refrence measure is only considered to perform Regularized Optimal Transport and to analyse its behaviour."
   ]
  },
  {
   "cell_type": "markdown",
   "metadata": {},
   "source": [
    "### Defining a few utilities functions"
   ]
  },
  {
   "cell_type": "code",
   "execution_count": null,
   "metadata": {},
   "outputs": [],
   "source": [
    "def calculate_barycenter(points):\n",
    "    num_points = len(points)\n",
    "    if num_points == 0:\n",
    "        raise ValueError(\"Cannot calculate the barycenter of an empty set of points.\")\n",
    "    \n",
    "    # Sum the coordinates along each axis\n",
    "    sum_x = np.sum(points[:, 0])\n",
    "    sum_y = np.sum(points[:, 1])\n",
    "    sum_z = np.sum(points[:, 2])\n",
    "    \n",
    "    # Calculate the barycenter coordinates\n",
    "    barycenter_x = sum_x / num_points\n",
    "    barycenter_y = sum_y / num_points\n",
    "    barycenter_z = sum_z / num_points\n",
    "    \n",
    "    return barycenter_x, barycenter_y, barycenter_z\n",
    "\n",
    "def sample_points_on_sphere(num_points, radius = 1, center = (0, 0, 0)):\n",
    "    # Generate random values for θ and φ\n",
    "    theta = np.random.uniform(0, np.pi, num_points)\n",
    "    phi = np.random.uniform(0, 2*np.pi, num_points)\n",
    "    \n",
    "    # Calculate Cartesian coordinates\n",
    "    x = center[0] + radius * np.sin(theta) * np.cos(phi)\n",
    "    y = center[1] + radius * np.sin(theta) * np.sin(phi)\n",
    "    z = center[2] + radius * np.cos(theta)\n",
    "    \n",
    "    return x, y, z"
   ]
  },
  {
   "cell_type": "markdown",
   "metadata": {},
   "source": [
    "### Choosing the blade and sampling the reference measure"
   ]
  },
  {
   "cell_type": "code",
   "execution_count": null,
   "metadata": {},
   "outputs": [],
   "source": [
    "## Choosing the blade\n",
    "blade_one = distributions[1]\n",
    "x, y, z = blade_one[:, 0], blade_one[:, 1], blade_one[:, 2]\n",
    "# Calculate the barycenter of the blade\n",
    "barycenter_x, barycenter_y, barycenter_z = calculate_barycenter(blade_one)\n",
    "\n",
    "## Sampling the sphere of a given radius and of center the barycenter of the blade\n",
    "num_points = 1000\n",
    "radius = 0.04\n",
    "ref_x, ref_y, ref_z = sample_points_on_sphere(num_points, radius = radius, center = (barycenter_x, barycenter_y, barycenter_z))\n",
    "reference_measure_sample = np.column_stack((ref_x, ref_y, ref_z))\n"
   ]
  },
  {
   "cell_type": "markdown",
   "metadata": {},
   "source": [
    "### Plotting the blade and the reference measure sample"
   ]
  },
  {
   "cell_type": "code",
   "execution_count": null,
   "metadata": {},
   "outputs": [],
   "source": [
    "## Plotting plotly figure\n",
    "\n",
    "# Create traces for each set of coordinates\n",
    "trace1 = go.Scatter3d(x=ref_x, y=ref_y, z=ref_z, mode='markers', marker=dict(size=8, color='blue'), name='Reference Measure')\n",
    "trace2 = go.Scatter3d(x=x, y=y, z=z, mode='markers', marker=dict(size=8, color='red'), name='Blade')\n",
    "\n",
    "# Create the figure with both traces\n",
    "fig = go.Figure(data=[trace1, trace2])\n",
    "\n",
    "# Update layout for better visualization\n",
    "fig.update_layout(scene=dict(aspectmode='data'))\n",
    "\n",
    "# Set axis labels\n",
    "fig.update_layout(scene=dict(xaxis_title='X-axis', yaxis_title='Y-axis', zaxis_title='Z-axis'))\n",
    "\n",
    "# Show the plot\n",
    "fig.show()"
   ]
  },
  {
   "cell_type": "markdown",
   "metadata": {},
   "source": [
    "### Performing Regularized Optimal Transport between the blade and the reference measure sample\n",
    "\n",
    "The functions from the paper normalized the reference measure. Is it necessary here ?"
   ]
  },
  {
   "cell_type": "code",
   "execution_count": null,
   "metadata": {},
   "outputs": [],
   "source": [
    "# Jax package allows to speed up computation\n",
    "import jax.numpy as jnp\n",
    "\n",
    "# Packages that actually performs Sinkhorn algorithm\n",
    "from ott.geometry.pointcloud import PointCloud\n",
    "from ott.problems.linear.linear_problem import LinearProblem\n",
    "from ott.solvers.linear.sinkhorn import Sinkhorn\n",
    "import ott\n",
    "\n",
    "## We sample from our reference measure.\n",
    "\n",
    "# Start a timer\n",
    "import time\n",
    "start_time = time.time()\n",
    "\n",
    "## Our cloud points are in the variables blade_one and reference_measure_sample\n",
    "\n",
    "## How many points per blade ?\n",
    "size_cloud_points = len(blade_one)\n",
    "\n",
    "## We need to define the clouds as jax.numpy arrays\n",
    "cloud_one = jnp.array(blade_one)\n",
    "cloud_ref = jnp.array(reference_measure_sample)\n",
    "\n",
    "## The functions from the paper normalized the reference measure. Is it necessary here ?\n",
    "\n",
    "## Define the epsilon for Regularized OT - small epsilon = great accuracy = longer time\n",
    "epsilon = 1\n",
    "\n",
    "## Create PointCloud object to accomodate OTT package\n",
    "my_geom = PointCloud(x = cloud_one, # training cloud or first blade cloud\n",
    "                  y = cloud_ref, # reference cloud or second blade cloud\n",
    "                  epsilon = epsilon # epsilon of ROT\n",
    "                  )\n",
    "\n",
    "## Formalises the Regularized Optimal Transport problem\n",
    "ot_problem = LinearProblem(geom = my_geom) # The geometry of the problem between the two blades\n",
    "\n",
    "## Instanciate the solver of the ROT problem\n",
    "sinkhorn_solver =  Sinkhorn()\n",
    "\n",
    "## Actually computing the Sinkhorn algortihm\n",
    "rot_result = sinkhorn_solver(ot_problem)\n",
    "\n",
    "# Stops the timer\n",
    "end_time = time.time()\n",
    "time_spent = end_time - start_time\n",
    "print(\"Regularized Optimal Transport computation took:\", time_spent, \"seconds, using epsilon =\", epsilon)\n",
    "\n",
    "## Retrieve left and right potentials\n",
    "left_potentials = rot_result.f\n",
    "right_potentials = rot_result.g\n",
    "\n",
    "## Retrieve the duals potentials\n",
    "dual_potentials = rot_result.to_dual_potentials()\n",
    "\n",
    "## Compute the transport plan matrix\n",
    "transport_plan_matrix = rot_result.matrix"
   ]
  }
 ],
 "metadata": {
  "kernelspec": {
   "display_name": ".venv",
   "language": "python",
   "name": "python3"
  },
  "language_info": {
   "name": "python",
   "version": "3.12.0"
  }
 },
 "nbformat": 4,
 "nbformat_minor": 2
}
