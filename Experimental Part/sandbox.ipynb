{
 "cells": [
  {
   "cell_type": "code",
   "execution_count": 7,
   "metadata": {},
   "outputs": [],
   "source": [
    "import numpy as np\n",
    "\n",
    "indices = np.load(\"indices_train.npy\")"
   ]
  },
  {
   "cell_type": "code",
   "execution_count": 6,
   "metadata": {},
   "outputs": [
    {
     "data": {
      "text/plain": [
       "array([[ 5720,  5289, 23938, ..., 19961, 13479, 29365],\n",
       "       [ 5720,  5390, 23906, ...,  8238,   398, 21627],\n",
       "       [ 5720,  5188, 23907, ...,  8985,  8902,  3833],\n",
       "       ...,\n",
       "       [ 5720,  5490, 23970, ..., 26333,  3980,  9973],\n",
       "       [ 5720,  5389, 23938, ..., 11625, 17967, 22064],\n",
       "       [ 5720,  5389, 23938, ..., 12208,  2431,  3920]])"
      ]
     },
     "execution_count": 6,
     "metadata": {},
     "output_type": "execute_result"
    }
   ],
   "source": [
    "indices.astype(int)"
   ]
  }
 ],
 "metadata": {
  "kernelspec": {
   "display_name": ".venv",
   "language": "python",
   "name": "python3"
  },
  "language_info": {
   "codemirror_mode": {
    "name": "ipython",
    "version": 3
   },
   "file_extension": ".py",
   "mimetype": "text/x-python",
   "name": "python",
   "nbconvert_exporter": "python",
   "pygments_lexer": "ipython3",
   "version": "3.12.0"
  }
 },
 "nbformat": 4,
 "nbformat_minor": 2
}
