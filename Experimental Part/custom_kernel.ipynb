{
 "cells": [
  {
   "cell_type": "code",
   "execution_count": 22,
   "metadata": {},
   "outputs": [],
   "source": [
    "import ot\n",
    "import importing\n",
    "import numpy as np\n",
    "\n",
    "train = [76,124,130,154,157,174,383,501,524,593,711,732,798,800,959,987]\n",
    "test = [1000,1001,1002,1003,1004,1005,1006,1007,1008,1009,1010,1011,1012,1013,1014,1015,1016,1017,1018,1019,1020,1021,1022,1023,1024,1025,1026,1027,1028,1029,1030,1031,1032,1033,1034,1035,1036,1037,1038,1039,1040,1041,1042,1043,1044,1045,1046,1047,1048,1049,1050,1051,1052,1053,1054,1055,1056,1057,1058,1059,1060,1061,1062,1063,1064,1065,1066,1067,1068,1069,1070,1071,1072,1073,1074,1075,1076,1077,1078,1079,1080,1081,1082,1083,1084,1085,1086,1087,1088,1089,1090,1091,1092,1093,1094,1095,1096,1097,1098,1099,1100,1101,1102,1103,1104,1105,1106,1107,1108,1109,1110,1111,1112,1113,1114,1115,1116,1117,1118,1119,1120,1121,1122,1123,1124,1125,1126,1127,1128,1129,1130,1131,1132,1133,1134,1135,1136,1137,1138,1139,1140,1141,1142,1143,1144,1145,1146,1147,1148,1149,1150,1151,1152,1153,1154,1155,1156,1157,1158,1159,1160,1161,1162,1163,1164,1165,1166,1167,1168,1169,1170,1171,1172,1173,1174,1175,1176,1177,1178,1179,1180,1181,1182,1183,1184,1185,1186,1187,1188,1189,1190,1191,1192,1193,1194,1195,1196,1197,1198,1199]\n",
    "blades = importing.blades2(ids = train)\n",
    "blade1 = blades[1, :, :]\n",
    "blade2 = blades[2, :, :]"
   ]
  },
  {
   "cell_type": "code",
   "execution_count": 6,
   "metadata": {},
   "outputs": [
    {
     "name": "stdout",
     "output_type": "stream",
     "text": [
      "(29773, 3)\n",
      "(29773, 3)\n",
      "(29773, 3)\n",
      "(29773, 3)\n",
      "(29773, 3)\n",
      "(29773, 3)\n",
      "(29773, 3)\n",
      "(29773, 3)\n",
      "(29773, 3)\n",
      "(29773, 3)\n",
      "(29773, 3)\n",
      "(29773, 3)\n",
      "(29773, 3)\n",
      "(29773, 3)\n",
      "(29773, 3)\n",
      "(29773, 3)\n"
     ]
    }
   ],
   "source": [
    "distances = np.zeros((blades.shape[0], blades.shape[0]))\n",
    "for i, x1 in enumerate(blades):\n",
    "    print(x1.shape)\n",
    "    for j, x2 in enumerate(blades):\n",
    "        distances[i, j] = ot.sliced_wasserstein_distance(X_s = x1, X_t = x2, \n",
    "                               a = None, b = None, \n",
    "                               n_projections = 100, p = 3, \n",
    "                               projections=None, seed=None, log=False)\n"
   ]
  },
  {
   "cell_type": "code",
   "execution_count": 20,
   "metadata": {},
   "outputs": [
    {
     "name": "stdout",
     "output_type": "stream",
     "text": [
      "Optimization restart 1/10, f = -39.47764514784494\n",
      "Optimization restart 2/10, f = -51.0732901863425\n",
      "Optimization restart 3/10, f = -51.07326469037306\n",
      "Optimization restart 4/10, f = -51.07328141592652\n",
      "Optimization restart 5/10, f = -51.07325081350168\n",
      "Optimization restart 6/10, f = -39.47764538559618\n",
      "Optimization restart 7/10, f = -39.47765289129351\n",
      "Optimization restart 8/10, f = -51.073290148702675\n",
      "Optimization restart 9/10, f = -51.07322287674683\n",
      "Optimization restart 10/10, f = -39.47764227995366\n"
     ]
    },
    {
     "data": {
      "text/plain": [
       "[<paramz.optimization.optimization.opt_lbfgsb at 0x31b74f3b0>,\n",
       " <paramz.optimization.optimization.opt_lbfgsb at 0x31b7718b0>,\n",
       " <paramz.optimization.optimization.opt_lbfgsb at 0x31b74fef0>,\n",
       " <paramz.optimization.optimization.opt_lbfgsb at 0x10510e630>,\n",
       " <paramz.optimization.optimization.opt_lbfgsb at 0x31b74a120>,\n",
       " <paramz.optimization.optimization.opt_lbfgsb at 0x31b773470>,\n",
       " <paramz.optimization.optimization.opt_lbfgsb at 0x31b761eb0>,\n",
       " <paramz.optimization.optimization.opt_lbfgsb at 0x30efa7c50>,\n",
       " <paramz.optimization.optimization.opt_lbfgsb at 0x1051e94f0>,\n",
       " <paramz.optimization.optimization.opt_lbfgsb at 0x31b7713d0>]"
      ]
     },
     "execution_count": 20,
     "metadata": {},
     "output_type": "execute_result"
    }
   ],
   "source": [
    "import GPy\n",
    "x_scalars, y_scalars = importing.scalars(train, test = False)\n",
    "blades = blades.reshape(16, -1)\n",
    "kernel_sinkhorn = GPy.kern.Matern52(input_dim = 29773 * 3, ARD = False)\n",
    "custom_kernel_matrix = kernel_sinkhorn.K_of_r(distances)\n",
    "custom_kernel_gradient = kernel_sinkhorn.dK_dr(distances)\n",
    "\n",
    "# Create GP regression model with the custom kernel\n",
    "gp_model = GPy.models.GPRegression(blades, y_scalars[:, 0:1], kernel = kernel_sinkhorn)\n",
    "\n",
    "# Now you can optimize the hyperparameters of the GP model\n",
    "gp_model.optimize_restarts(num_restarts = 10, messages = False, max_iters = 5000)"
   ]
  },
  {
   "cell_type": "code",
   "execution_count": 26,
   "metadata": {},
   "outputs": [],
   "source": [
    "blades_test = importing.blades2(ids = test)\n",
    "blades_test = blades_test.reshape(200, -1)\n",
    "\n",
    "x_scalars_test, y_scalars_test = importing.scalars(test, test = True)\n",
    "\n",
    "y_pred, _ = gp_model.predict(blades_test)\n"
   ]
  },
  {
   "cell_type": "code",
   "execution_count": 27,
   "metadata": {},
   "outputs": [],
   "source": [
    "from packages import *\n",
    "q2 = r2_score(y_scalars_test[:, 0:1], y_pred)\n"
   ]
  },
  {
   "cell_type": "code",
   "execution_count": 28,
   "metadata": {},
   "outputs": [
    {
     "data": {
      "text/plain": [
       "-0.02557894999550303"
      ]
     },
     "execution_count": 28,
     "metadata": {},
     "output_type": "execute_result"
    }
   ],
   "source": [
    "q2"
   ]
  }
 ],
 "metadata": {
  "kernelspec": {
   "display_name": ".venv",
   "language": "python",
   "name": "python3"
  },
  "language_info": {
   "codemirror_mode": {
    "name": "ipython",
    "version": 3
   },
   "file_extension": ".py",
   "mimetype": "text/x-python",
   "name": "python",
   "nbconvert_exporter": "python",
   "pygments_lexer": "ipython3",
   "version": "3.12.0"
  }
 },
 "nbformat": 4,
 "nbformat_minor": 2
}
