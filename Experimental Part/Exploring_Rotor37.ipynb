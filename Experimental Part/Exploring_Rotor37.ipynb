{
 "cells": [
  {
   "cell_type": "markdown",
   "metadata": {},
   "source": [
    "# Exploring the NASA Rotor 37 dataset\n",
    "\n",
    "This notebook is in addition of the Experiment_On_Real_Dataset notebook. Its aim is to explore and understand the structure of the Rotor 37 dataset. Historically the dataset was created by [NASA](https://ntrs.nasa.gov/api/citations/20100029589/downloads/20100029589.pdf). More informations [here](https://turbmodels.larc.nasa.gov/Other_exp_Data/rotor37_exp.html). We retrieved the data on the PLAID website [here](https://plaid-lib.readthedocs.io/en/latest/source/data_challenges/rotor37.html).\n",
    "\n",
    "The goal of this notebook is to explore the variables given in dataset. \n",
    "- The cloudpoints of a blade\n",
    "- Two input scalars: P and Omega\n",
    "- Three outputs scalars: Massflow, Compression Ratio, Efficiency\n",
    "- Three outputs fields: Density, Pressure, Temperature\n",
    "\n",
    "<br>\n",
    "\n",
    "Authors of this notebook:\n",
    "* Louis Allain\n",
    "* Léonard Gousset\n",
    "* Julien Heurtin"
   ]
  },
  {
   "cell_type": "markdown",
   "metadata": {},
   "source": [
    "# Importing the data\n",
    "In this section we provide the code to import and view the data."
   ]
  },
  {
   "cell_type": "code",
   "execution_count": null,
   "metadata": {},
   "outputs": [],
   "source": [
    "## Needed to import the data\n",
    "import h5py\n",
    "import plotly.graph_objects as go\n",
    "from mpl_toolkits.mplot3d import Axes3D\n",
    "import numpy as np\n",
    "import pandas as pd\n",
    "import matplotlib.pyplot as plt"
   ]
  },
  {
   "cell_type": "code",
   "execution_count": null,
   "metadata": {},
   "outputs": [],
   "source": [
    "## Define functions to explore the .cgns file\n",
    "def explore_cgns_structure(file_path):\n",
    "    with h5py.File(file_path, 'r') as f:\n",
    "        print(\"File structure:\")\n",
    "        explore_group(f)\n",
    "\n",
    "def explore_group(group, indent=\"\"):\n",
    "    for key in group.keys():\n",
    "        print(f\"{indent}{key}\")\n",
    "        if isinstance(group[key], h5py.Group):\n",
    "            explore_group(group[key], indent + \"  \")\n",
    "\n",
    "\n",
    "## Explore the veyy first blade .cgns file\n",
    "number = '000000001'\n",
    "explore_cgns_structure(f'Rotor37/dataset/samples/sample_{number}/meshes/mesh_000000000.cgns')"
   ]
  },
  {
   "cell_type": "markdown",
   "metadata": {},
   "source": [
    "We are interested in the coordonates of the cloud points. Lets define a function that can retrieve a cloud points from a .cgns file and the associated aero coefficient."
   ]
  },
  {
   "cell_type": "code",
   "execution_count": null,
   "metadata": {},
   "outputs": [],
   "source": [
    "def read_cgns_coordinates(file_path):\n",
    "    with h5py.File(file_path, 'r') as file:\n",
    "        # We retrieve coordinate by coordinate.\n",
    "        # ! Notice the space before the data. This is due to the naming in the files themselves.\n",
    "        x = np.array(file['Base_2_3/Zone/GridCoordinates/CoordinateX'].get(' data'))\n",
    "        y = np.array(file['Base_2_3/Zone/GridCoordinates/CoordinateY'].get(' data'))\n",
    "        z = np.array(file['Base_2_3/Zone/GridCoordinates/CoordinateZ'].get(' data'))\n",
    "\n",
    "    return x, y, z"
   ]
  },
  {
   "cell_type": "markdown",
   "metadata": {},
   "source": [
    "Now we can import any number of blades with their aerodynamic coefficients."
   ]
  },
  {
   "cell_type": "code",
   "execution_count": null,
   "metadata": {},
   "outputs": [],
   "source": [
    "## Number of blade one want to consider.\n",
    "_many_blades = 10\n",
    "\n",
    "## Creating the list of all file numbers.\n",
    "padded_numbers = [str(i).zfill(9) for i in range(_many_blades)]\n",
    "\n",
    "## Lists that will holds the cloud points and the associated efficiency.\n",
    "distributions = []\n",
    "efficiency = []\n",
    "P = []\n",
    "omega = []\n",
    "\n",
    "for number in padded_numbers:\n",
    "    ## File paths Google Colab\n",
    "    #cgns_file_path = f'/content/drive/MyDrive/Developer/GraduationProject/Experimental Part/Rotor37/dataset/samples/sample_{number}/meshes/mesh_000000000.cgns'\n",
    "    #coefficient_file_path = f'/content/drive/MyDrive/Developer/GraduationProject/Experimental Part/Rotor37/dataset/samples/sample_{number}/scalars.csv'\n",
    "    ## File paths Personal Computer\n",
    "    cgns_file_path = f'Rotor37/dataset/samples/sample_{number}/meshes/mesh_000000000.cgns'\n",
    "    coefficient_file_path = f'Rotor37/dataset/samples/sample_{number}/scalars.csv'\n",
    "\n",
    "    ## Computing the coordinates\n",
    "    x, y, z = read_cgns_coordinates(cgns_file_path)\n",
    "    blade = np.column_stack((x, y, z))\n",
    "\n",
    "    ## Computing the coefficient\n",
    "    scalars = pd.read_csv(coefficient_file_path)\n",
    "    \n",
    "    ## Adding to our data\n",
    "    distributions.append(blade)\n",
    "    efficiency.append(scalars[\"Efficiency\"][0])\n",
    "    omega.append(scalars[\"Omega\"][0])\n",
    "    P.append(scalars[\"P\"][0])"
   ]
  },
  {
   "cell_type": "markdown",
   "metadata": {},
   "source": [
    "# Plotting blades"
   ]
  },
  {
   "cell_type": "code",
   "execution_count": null,
   "metadata": {},
   "outputs": [],
   "source": [
    "## Lets consider the very first blade\n",
    "my_blade = distributions[0]\n",
    "\n",
    "# Unpack the blade into separate arrays for x, y and z\n",
    "x, y, z = my_blade[:, 0], my_blade[:, 1], my_blade[:, 2]\n",
    "\n",
    "plt.figure()\n",
    "# Create a DataFrame for Seaborn (not necessary for this example)\n",
    "data = {'x': x, 'y': y, 'z': z}\n",
    "df = pd.DataFrame(data)\n",
    "\n",
    "# Create 3D scatter plot with Matplotlib\n",
    "fig = plt.figure(figsize=(10, 10))\n",
    "ax = fig.add_subplot(111, projection='3d')\n",
    "\n",
    "# Scatter plot\n",
    "ax.scatter(x, y, z, s=50, c='blue', marker='o')\n",
    "\n",
    "# Set labels\n",
    "ax.set_xlabel('X-axis')\n",
    "ax.set_ylabel('Y-axis')\n",
    "ax.set_zlabel('Z-axis')\n",
    "\n",
    "# Save the figure\n",
    "#plt.savefig(\"Images/blade_static_plot.png\", dpi=300, bbox_inches='tight', format=\"png\")\n",
    "\n",
    "# Show the plot\n",
    "plt.show()"
   ]
  },
  {
   "cell_type": "code",
   "execution_count": null,
   "metadata": {},
   "outputs": [],
   "source": [
    "## Lets consider the very first blade\n",
    "my_blade = distributions[0]\n",
    "\n",
    "# Unpack the blade into separate arrays for x, y and z\n",
    "x, y, z = my_blade[:, 0], my_blade[:, 1], my_blade[:, 2]\n",
    "\n",
    "plt.figure()\n",
    "# Create 3D scatter plot\n",
    "fig = go.Figure(data=[go.Scatter3d(x=x, y=y, z=z, mode='markers', marker=dict(size=8, color='blue'))])\n",
    "\n",
    "# Update layout for better visualization\n",
    "fig.update_layout(scene=dict(aspectmode='data'))\n",
    "\n",
    "# Set axis labels\n",
    "fig.update_layout(scene=dict(xaxis_title='X-axis', yaxis_title='Y-axis', zaxis_title='Z-axis'))\n",
    "\n",
    "# To export the plot\n",
    "#fig.write_html(\"blade_plotly_figure.html\")\n",
    "\n",
    "# Show the plot\n",
    "fig.show()"
   ]
  }
 ],
 "metadata": {
  "kernelspec": {
   "display_name": ".venv",
   "language": "python",
   "name": "python3"
  },
  "language_info": {
   "name": "python",
   "version": "3.12.0"
  }
 },
 "nbformat": 4,
 "nbformat_minor": 2
}
